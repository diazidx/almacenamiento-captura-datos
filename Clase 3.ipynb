{
 "cells": [
  {
   "cell_type": "markdown",
   "metadata": {},
   "source": [
    "## Beautiful Soup"
   ]
  },
  {
   "cell_type": "code",
   "execution_count": 2,
   "metadata": {},
   "outputs": [
    {
     "name": "stdout",
     "output_type": "stream",
     "text": [
      "Requirement already satisfied: requests in /opt/anaconda3/lib/python3.7/site-packages (2.22.0)\n",
      "Requirement already satisfied: chardet<3.1.0,>=3.0.2 in /opt/anaconda3/lib/python3.7/site-packages (from requests) (3.0.4)\n",
      "Requirement already satisfied: certifi>=2017.4.17 in /opt/anaconda3/lib/python3.7/site-packages (from requests) (2019.9.11)\n",
      "Requirement already satisfied: urllib3!=1.25.0,!=1.25.1,<1.26,>=1.21.1 in /opt/anaconda3/lib/python3.7/site-packages (from requests) (1.24.2)\n",
      "Requirement already satisfied: idna<2.9,>=2.5 in /opt/anaconda3/lib/python3.7/site-packages (from requests) (2.8)\n",
      "Requirement already satisfied: beautifulsoup4 in /opt/anaconda3/lib/python3.7/site-packages (4.8.0)\n",
      "Requirement already satisfied: soupsieve>=1.2 in /opt/anaconda3/lib/python3.7/site-packages (from beautifulsoup4) (1.9.3)\n"
     ]
    }
   ],
   "source": [
    "#beautifull soup y request\n",
    "import pandas as pd\n",
    "!pip install requests\n",
    "!pip install beautifulsoup4"
   ]
  },
  {
   "cell_type": "code",
   "execution_count": 3,
   "metadata": {},
   "outputs": [],
   "source": [
    "import requests\n",
    "\n",
    "#r = requests.get('https://python.org')"
   ]
  },
  {
   "cell_type": "code",
   "execution_count": 4,
   "metadata": {},
   "outputs": [],
   "source": [
    "#r"
   ]
  },
  {
   "cell_type": "code",
   "execution_count": 5,
   "metadata": {},
   "outputs": [],
   "source": [
    "#r.text"
   ]
  },
  {
   "cell_type": "code",
   "execution_count": 6,
   "metadata": {},
   "outputs": [],
   "source": [
    "from bs4 import BeautifulSoup"
   ]
  },
  {
   "cell_type": "code",
   "execution_count": 7,
   "metadata": {},
   "outputs": [],
   "source": [
    "#res = BeautifulSoup(r.text, \"html5lib\")"
   ]
  },
  {
   "cell_type": "code",
   "execution_count": 8,
   "metadata": {},
   "outputs": [],
   "source": [
    "#res"
   ]
  },
  {
   "cell_type": "code",
   "execution_count": 9,
   "metadata": {},
   "outputs": [],
   "source": [
    "#res.title"
   ]
  },
  {
   "cell_type": "code",
   "execution_count": 10,
   "metadata": {},
   "outputs": [],
   "source": [
    "#res.title.text"
   ]
  },
  {
   "cell_type": "code",
   "execution_count": 11,
   "metadata": {},
   "outputs": [],
   "source": [
    "r = requests.get('https://www.pcfactory.cl/notebooks?categoria=735&papa=636')\n",
    "#r"
   ]
  },
  {
   "cell_type": "code",
   "execution_count": 12,
   "metadata": {},
   "outputs": [],
   "source": [
    "res = BeautifulSoup(r.text, 'html5lib')"
   ]
  },
  {
   "cell_type": "code",
   "execution_count": 13,
   "metadata": {},
   "outputs": [],
   "source": [
    "#res.title.text"
   ]
  },
  {
   "cell_type": "code",
   "execution_count": 14,
   "metadata": {},
   "outputs": [],
   "source": [
    "#contenedor_notebooks = res.find_all('div', {'class': 'center-caluga'})"
   ]
  },
  {
   "cell_type": "code",
   "execution_count": 15,
   "metadata": {},
   "outputs": [],
   "source": [
    "#len(contenedor_notebooks)"
   ]
  },
  {
   "cell_type": "code",
   "execution_count": 16,
   "metadata": {},
   "outputs": [
    {
     "data": {
      "text/plain": [
       "\"marca = []\\ntitulo = []\\nprecio = []\\nprecio2 = []\\n\\nfor elem in contenedor_notebooks:\\n    marca.append(elem.find('span', {'class': 'marca'}).text)\\n    titulo.append(elem.find('span', {'class': 'nombre'}).text)\\n    precio.append(elem.find('span', {'class': 'txt-precio'}).text)\\n    precio2.append(int(float(elem.find('meta', {'itemprop':'price'})['content'])))\""
      ]
     },
     "execution_count": 16,
     "metadata": {},
     "output_type": "execute_result"
    }
   ],
   "source": [
    "'''marca = []\n",
    "titulo = []\n",
    "precio = []\n",
    "precio2 = []\n",
    "\n",
    "for elem in contenedor_notebooks:\n",
    "    marca.append(elem.find('span', {'class': 'marca'}).text)\n",
    "    titulo.append(elem.find('span', {'class': 'nombre'}).text)\n",
    "    precio.append(elem.find('span', {'class': 'txt-precio'}).text)\n",
    "    precio2.append(int(float(elem.find('meta', {'itemprop':'price'})['content'])))'''"
   ]
  },
  {
   "cell_type": "code",
   "execution_count": 17,
   "metadata": {},
   "outputs": [
    {
     "data": {
      "text/plain": [
       "\"import pandas as pd\\ndict_pdfactory = {'Marca': marca, 'Descripcion': titulo, 'Precio': precio2}\\npcfac_nb = pd.DataFrame(dict_pdfactory)\""
      ]
     },
     "execution_count": 17,
     "metadata": {},
     "output_type": "execute_result"
    }
   ],
   "source": [
    "'''import pandas as pd\n",
    "dict_pdfactory = {'Marca': marca, 'Descripcion': titulo, 'Precio': precio2}\n",
    "pcfac_nb = pd.DataFrame(dict_pdfactory)'''"
   ]
  },
  {
   "cell_type": "code",
   "execution_count": 18,
   "metadata": {
    "scrolled": true
   },
   "outputs": [],
   "source": [
    "#pcfac_nb.head()"
   ]
  },
  {
   "cell_type": "code",
   "execution_count": 19,
   "metadata": {},
   "outputs": [
    {
     "data": {
      "text/plain": [
       "3"
      ]
     },
     "execution_count": 19,
     "metadata": {},
     "output_type": "execute_result"
    }
   ],
   "source": [
    "#devuelve el numero de paginas\n",
    "n_pag = int(res.find('a', {'id': 'pag_ter'}).text)\n",
    "n_pag"
   ]
  },
  {
   "cell_type": "code",
   "execution_count": 20,
   "metadata": {},
   "outputs": [],
   "source": [
    "marca = []\n",
    "titulo = []\n",
    "precio = []\n",
    "precio2 = []\n",
    "\n",
    "for i in range(n_pag):\n",
    "    r1=requests.get('https://www.pcfactory.cl/notebooks?categoria=735&papa=636&pagina='+str(i+1))\n",
    "    res1 = BeautifulSoup(r1.text, 'html5lib')\n",
    "    contenedor_notebooks = res1.find_all('div', {'class': 'center-caluga'})\n",
    "    \n",
    "    for elem in contenedor_notebooks:\n",
    "        marca.append(elem.find('span', {'class': 'marca'}).text)\n",
    "        titulo.append(elem.find('span', {'class': 'nombre'}).text)\n",
    "        precio.append(elem.find('span', {'class': 'txt-precio'}).text)\n",
    "        precio2.append(int(float(elem.find('meta', {'itemprop':'price'})['content'])))"
   ]
  },
  {
   "cell_type": "code",
   "execution_count": 21,
   "metadata": {},
   "outputs": [],
   "source": [
    "dict_pdfactory = {'Marca': marca, 'Descripcion': titulo, 'Precio': precio2}\n",
    "pcfac_nb = pd.DataFrame(dict_pdfactory)"
   ]
  },
  {
   "cell_type": "code",
   "execution_count": 22,
   "metadata": {},
   "outputs": [
    {
     "data": {
      "text/html": [
       "<div>\n",
       "<style scoped>\n",
       "    .dataframe tbody tr th:only-of-type {\n",
       "        vertical-align: middle;\n",
       "    }\n",
       "\n",
       "    .dataframe tbody tr th {\n",
       "        vertical-align: top;\n",
       "    }\n",
       "\n",
       "    .dataframe thead th {\n",
       "        text-align: right;\n",
       "    }\n",
       "</style>\n",
       "<table border=\"1\" class=\"dataframe\">\n",
       "  <thead>\n",
       "    <tr style=\"text-align: right;\">\n",
       "      <th></th>\n",
       "      <th>Marca</th>\n",
       "      <th>Descripcion</th>\n",
       "      <th>Precio</th>\n",
       "    </tr>\n",
       "  </thead>\n",
       "  <tbody>\n",
       "    <tr>\n",
       "      <td>0</td>\n",
       "      <td>Gear  ®</td>\n",
       "      <td>Notebook Lotus 14\" FHD Celeron N3350 4GB 128GB...</td>\n",
       "      <td>174590</td>\n",
       "    </tr>\n",
       "    <tr>\n",
       "      <td>1</td>\n",
       "      <td>HP  ®</td>\n",
       "      <td>Notebook 240 G6  Celeron N4000 4GB 500GB  Free...</td>\n",
       "      <td>184290</td>\n",
       "    </tr>\n",
       "    <tr>\n",
       "      <td>2</td>\n",
       "      <td>HP  ®</td>\n",
       "      <td>Notebook 245 G6 14\" HD AMD E2-9000e 4GB 500GB ...</td>\n",
       "      <td>193990</td>\n",
       "    </tr>\n",
       "    <tr>\n",
       "      <td>3</td>\n",
       "      <td>HP  ®</td>\n",
       "      <td>Notebook 240 G7 14\" HD Celeron N4000 4GB 500GB...</td>\n",
       "      <td>194990</td>\n",
       "    </tr>\n",
       "    <tr>\n",
       "      <td>4</td>\n",
       "      <td>Asus  ®</td>\n",
       "      <td>Notebook X540MA-GQ070T Intel® Celeron® N4000 4...</td>\n",
       "      <td>199990</td>\n",
       "    </tr>\n",
       "    <tr>\n",
       "      <td>...</td>\n",
       "      <td>...</td>\n",
       "      <td>...</td>\n",
       "      <td>...</td>\n",
       "    </tr>\n",
       "    <tr>\n",
       "      <td>133</td>\n",
       "      <td>Razer  ®</td>\n",
       "      <td>Notebook Gamer Razer Blade  Intel i7-8750H RTX...</td>\n",
       "      <td>3199990</td>\n",
       "    </tr>\n",
       "    <tr>\n",
       "      <td>134</td>\n",
       "      <td>Asus  ®</td>\n",
       "      <td>Notebook Gamer ROG Intel i7-9750H RTX 2080 8GB...</td>\n",
       "      <td>3297990</td>\n",
       "    </tr>\n",
       "    <tr>\n",
       "      <td>135</td>\n",
       "      <td>HP  ®</td>\n",
       "      <td>Notebook OMEN X Intel i9-9880H RTX 2080 8GB 15...</td>\n",
       "      <td>3588990</td>\n",
       "    </tr>\n",
       "    <tr>\n",
       "      <td>136</td>\n",
       "      <td>Asus  ®</td>\n",
       "      <td>Notebook Gamer ROG G703GXR Intel i9-9980HK RTX...</td>\n",
       "      <td>3782990</td>\n",
       "    </tr>\n",
       "    <tr>\n",
       "      <td>137</td>\n",
       "      <td>MSI  ®</td>\n",
       "      <td>Notebook Gamer GT76 Titan DT 9SG Intel i9- 990...</td>\n",
       "      <td>3928490</td>\n",
       "    </tr>\n",
       "  </tbody>\n",
       "</table>\n",
       "<p>138 rows × 3 columns</p>\n",
       "</div>"
      ],
      "text/plain": [
       "         Marca                                        Descripcion   Precio\n",
       "0     Gear  ®   Notebook Lotus 14\" FHD Celeron N3350 4GB 128GB...   174590\n",
       "1       HP  ®   Notebook 240 G6  Celeron N4000 4GB 500GB  Free...   184290\n",
       "2       HP  ®   Notebook 245 G6 14\" HD AMD E2-9000e 4GB 500GB ...   193990\n",
       "3       HP  ®   Notebook 240 G7 14\" HD Celeron N4000 4GB 500GB...   194990\n",
       "4     Asus  ®   Notebook X540MA-GQ070T Intel® Celeron® N4000 4...   199990\n",
       "..         ...                                                ...      ...\n",
       "133  Razer  ®   Notebook Gamer Razer Blade  Intel i7-8750H RTX...  3199990\n",
       "134   Asus  ®   Notebook Gamer ROG Intel i7-9750H RTX 2080 8GB...  3297990\n",
       "135     HP  ®   Notebook OMEN X Intel i9-9880H RTX 2080 8GB 15...  3588990\n",
       "136   Asus  ®   Notebook Gamer ROG G703GXR Intel i9-9980HK RTX...  3782990\n",
       "137    MSI  ®   Notebook Gamer GT76 Titan DT 9SG Intel i9- 990...  3928490\n",
       "\n",
       "[138 rows x 3 columns]"
      ]
     },
     "execution_count": 22,
     "metadata": {},
     "output_type": "execute_result"
    }
   ],
   "source": [
    "pcfac_nb"
   ]
  },
  {
   "cell_type": "code",
   "execution_count": null,
   "metadata": {},
   "outputs": [],
   "source": []
  },
  {
   "cell_type": "markdown",
   "metadata": {},
   "source": [
    "## SELENIUM"
   ]
  },
  {
   "cell_type": "code",
   "execution_count": 27,
   "metadata": {},
   "outputs": [],
   "source": [
    "from time import sleep\n",
    "\n",
    "#!pip install -U selenium\n",
    "#!pip install webdriver-manager\n",
    "from selenium import webdriver\n",
    "from selenium.webdriver.common.keys import Keys\n",
    "from webdriver_manager.chrome import ChromeDriverManager\n",
    "from selenium.webdriver.support.ui import WebDriverWait"
   ]
  },
  {
   "cell_type": "code",
   "execution_count": 32,
   "metadata": {},
   "outputs": [
    {
     "name": "stdout",
     "output_type": "stream",
     "text": [
      "\n",
      "Looking for [chromedriver 79.0.3945.36 mac64] driver in cache \n",
      "File found in cache by path [/Users/diazid/.wdm/drivers/chromedriver/79.0.3945.36/mac64/chromedriver]\n",
      "Magíster en Data Science - Ingeniería UAI\n",
      "https://ingenieria.uai.cl › magister › magister-en-data-science\n",
      "\n",
      "\n",
      "Magíster en Data Science - Ingeniería UAI\n",
      "https://ingenieria.uai.cl › magister › magister-en-data-science\n",
      "\n",
      "\n",
      "Magíster en Data Science - Facultad de Ingeniería\n",
      "https://ingenieria.udd.cl › postgrado › magister-en-data-science\n",
      "Información General. Inicio: 29 de mayo de 2020. Sede: Santiago; Formato: Presencial, clases los fines de semana días viernes y sábado; Horarios de clases:.\n",
      "\n",
      "Magíster en Data Science - Universidad Adolfo Ibáñez\n",
      "https://www.uai.cl › magister › magister-en-data-science\n",
      "Magíster en Data Science. Ver el programa. A través de una formación teórica y práctica que integra temáticas de la ciencia de la computación, informática, ...\n",
      "\n",
      "Magíster en Data Science - Ingeniería UAI\n",
      "https://ingenieria.uai.cl › magister › magister-en-data-science\n",
      "El Magíster en Data Science entrega conocimientos sólidos en análisis y gestión de datos para predecir escenarios futuros y tomar óptimas decisiones.\n",
      "\n",
      "Data Analytics Certificate Universidad de Chile & MIT Sloan ...\n",
      "www.postgradouchile.cl › index.php › mit_data_analytics_certificate\n",
      "9 sep. 2019 - Encontrar sabiduría en los datos es fundamental, siendo el Data Analytics el enfoque perfecto que permite mezclar la estrategia de la ...\n",
      "\n",
      "Diplomado en Data Science - Educación Continua UC\n",
      "educacioncontinua.uc.cl › 36756-ficha-diplomado-en-data-science\n",
      "El presente diplomado entrega herramientas en data science para implementar soluciones de inteligencia de datos en la gestión y procesos de toma de de.\n",
      "\n",
      "Propuesta de Magíster en Data Science es presentada en ...\n",
      "ingenieria.uchile.cl › noticias › propuesta-de-magister-en-data-science-es-p...\n",
      "25 ene. 2017 - Juan Velásquez, están a cargo de lo que será un nuevo Magíster en Data Science o Ciencia de los Datos. Bajo este marco, es que ...\n",
      "\n",
      "MIT y Universidad de Chile sellan alianza para la formación ...\n",
      "https://www.uchile.cl › noticias › mit-y-u-de-chile-sellan-alianza-para-form...\n",
      "23 may. 2018 - Este convenio es producto de un trabajo de larga data, que ahora abre ... de un programa de diplomado hacia estudios de magíster en esta materia. ... Esta colaboración en torno a big data, data science, data analytics e ...\n",
      "\n",
      "Diplomados Data Science en Chile - GitHub\n",
      "https://github.com › robsalasco › data_science_chile\n",
      "Diplomados Data Science en Chile. id, university, grade, name, category, url, hours, price. 1, UACH, Magister, Magíster en Informática, Data Science & HPC ...\n",
      "\n",
      "Diplomado en Data Mining (Data Science) – Diplomados ...\n",
      "https://www.diplomadosfaeusach.cl › diplomados › diplomado-en-data-mi...\n",
      "Diplomado en Data Mining (Data Science). Director: Denise Laroze Prehn. DESCARGAR BROCHURE PRE POSTULAR ...\n",
      "\n",
      "Los Mejores Másteres de Ciencia de Datos para Considerar ...\n",
      "https://www.bbvadata.com › the-best-data-science-masters-in-spain-and-on...\n",
      "19 jul. 2018 - Desde mi experiencia, como Data Scientist desde hace algunos años, muchas veces me llega la pregunta: “Quiero hacer un máster en Big ...\n",
      "\n",
      "No encontró mas elementos\n"
     ]
    }
   ],
   "source": [
    "driver = webdriver.Chrome(ChromeDriverManager().install())\n",
    "driver.get('https://google.cl')\n",
    "\n",
    "elem = driver.find_element_by_name('q')\n",
    "elem.clear()\n",
    "elem.send_keys('Magister en Data Science')\n",
    "elem.send_keys(Keys.RETURN)\n",
    "\n",
    "elems = driver.find_elements_by_css_selector('div.g') # . es clase, # es id\n",
    "\n",
    "for e in elems:\n",
    "    try:\n",
    "        print(e.find_element_by_tag_name('h3').text)\n",
    "        print(e.find_element_by_tag_name('cite').text)\n",
    "        print(e.find_element_by_css_selector('span.st').text)\n",
    "        print()\n",
    "    except:\n",
    "        print('No encontró mas elementos')\n",
    "    \n",
    "driver.close()"
   ]
  },
  {
   "cell_type": "code",
   "execution_count": null,
   "metadata": {},
   "outputs": [],
   "source": []
  }
 ],
 "metadata": {
  "kernelspec": {
   "display_name": "Python 3",
   "language": "python",
   "name": "python3"
  },
  "language_info": {
   "codemirror_mode": {
    "name": "ipython",
    "version": 3
   },
   "file_extension": ".py",
   "mimetype": "text/x-python",
   "name": "python",
   "nbconvert_exporter": "python",
   "pygments_lexer": "ipython3",
   "version": "3.7.4"
  },
  "latex_envs": {
   "LaTeX_envs_menu_present": true,
   "autoclose": false,
   "autocomplete": true,
   "bibliofile": "biblio.bib",
   "cite_by": "apalike",
   "current_citInitial": 1,
   "eqLabelWithNumbers": true,
   "eqNumInitial": 1,
   "hotkeys": {
    "equation": "Ctrl-E",
    "itemize": "Ctrl-I"
   },
   "labels_anchors": false,
   "latex_user_defs": false,
   "report_style_numbering": false,
   "user_envs_cfg": false
  }
 },
 "nbformat": 4,
 "nbformat_minor": 2
}
